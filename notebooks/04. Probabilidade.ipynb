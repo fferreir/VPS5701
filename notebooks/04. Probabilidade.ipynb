{
 "cells": [
  {
   "cell_type": "code",
   "execution_count": 2,
   "id": "a224fbeb-b0de-473e-8b31-77e4d7551a31",
   "metadata": {},
   "outputs": [],
   "source": [
    "import math\n",
    "from scipy.stats import binom\n",
    "import numpy as np"
   ]
  },
  {
   "cell_type": "markdown",
   "id": "bbfdd0fd-d5ae-4516-8177-8f3f15993d58",
   "metadata": {},
   "source": [
    "# Probabilidades\n",
    "\n",
    "## Contagens\n",
    "\n",
    "### Permutações\n",
    "\n",
    "De quantas formas podemos organizar $n$ elementos? Selecionando-se o primeiro elemento restam $(n-1)$ possibilidades para o segundo, $(n-2)$ para o terceiro e assim por diante, logo, o número de permutações é dado por:\n",
    "\n",
    "$$ P(n)=n!$$\n",
    "\n",
    "Podemos usar a função _math.perm_"
   ]
  },
  {
   "cell_type": "code",
   "execution_count": 22,
   "id": "09558271-32dd-4917-b8f0-5ee1db31fa25",
   "metadata": {},
   "outputs": [
    {
     "data": {
      "text/plain": [
       "6"
      ]
     },
     "execution_count": 22,
     "metadata": {},
     "output_type": "execute_result"
    }
   ],
   "source": [
    "# Permutação de 3\n",
    "math.perm(3)"
   ]
  },
  {
   "cell_type": "markdown",
   "id": "fc55070a-164b-44a8-b953-eca1d112ad18",
   "metadata": {},
   "source": [
    "### Arranjos\n",
    "\n",
    "De quantos modos podemos combinar $k$ elementos de um conjunto de $n$ considerando que a ordem dos elementos importa.\n",
    "\n",
    "$$ A(n,k) = n(n-1)(n-2)\\dots(n-k+1) = \\frac{n!}{(n-k)!}$$\n",
    "\n",
    "Suponha que você possui 10 colaboradores e precisa estruturar uma equipe com um coordenador, um vice-coordenador, um secretário e um operador. Quantas possibilidades de equipes existem?"
   ]
  },
  {
   "cell_type": "code",
   "execution_count": 23,
   "id": "c7de0e93-f63f-465c-888f-5714d3670ad6",
   "metadata": {},
   "outputs": [
    {
     "data": {
      "text/plain": [
       "5040.0"
      ]
     },
     "execution_count": 23,
     "metadata": {},
     "output_type": "execute_result"
    }
   ],
   "source": [
    "math.factorial(10)/(math.factorial(10-4))"
   ]
  },
  {
   "cell_type": "markdown",
   "id": "b85e43cc-3b72-45a3-b167-1717a524bd2a",
   "metadata": {},
   "source": [
    "### Combinação\n",
    "\n",
    "De quantas formas podemos compor amostras de tamanho $k$ a partir de elementos de uma população $n$ considerando que a ordem não importa. Assim, basta calcular o arranjo e dividir pelo número de $k$ permutações.\n",
    "\n",
    "$$C(n,k)=\\frac{A(n,k)}{k!}=\\frac{n!}{(n-k)!k!}$$\n",
    "\n",
    "Quantas amostras diferentes podemos selecionar com 5 animais de uma população de 10 indivíduos?"
   ]
  },
  {
   "cell_type": "code",
   "execution_count": 24,
   "id": "531eb5cf-63d8-4a62-bede-daaae907e39d",
   "metadata": {},
   "outputs": [
    {
     "data": {
      "text/plain": [
       "252.0"
      ]
     },
     "execution_count": 24,
     "metadata": {},
     "output_type": "execute_result"
    }
   ],
   "source": [
    "math.factorial(10)/(math.factorial(10-5)*math.factorial(5))"
   ]
  },
  {
   "cell_type": "code",
   "execution_count": 25,
   "id": "3cc3b74a-9dec-442a-97d7-2968fc1390c0",
   "metadata": {},
   "outputs": [
    {
     "data": {
      "text/plain": [
       "252"
      ]
     },
     "execution_count": 25,
     "metadata": {},
     "output_type": "execute_result"
    }
   ],
   "source": [
    "math.comb(10,5)"
   ]
  },
  {
   "cell_type": "markdown",
   "id": "7c8f91db-f880-4d0f-8162-a70f3388fb67",
   "metadata": {},
   "source": [
    "## Problemas"
   ]
  },
  {
   "cell_type": "markdown",
   "id": "286bc02f-8a4c-427d-8196-9d39bbefd260",
   "metadata": {},
   "source": [
    "### 1. Considere que você irá comprar um lote de 15 animais de uma população de 10000 indivíduos dos quais 1200 são positivos para doença X (Em virtude do tamanho da população e da amostra a ser obtida, considere que a seleção dos 15 animais não afeta significativamente a probabilidade de um animal aleatoriamente selecionado ser  positivo).\n",
    " \n",
    "    a. Qual a probabilidade de que o lote tenha 3 animais infectados?\n",
    "\n",
    "    b. Qual a probabilidade de que existam de 3, 4 ou 5 animais infectados?\n",
    "\n",
    "    c. Qual a probabilidade de que existam mais do que 7 animais infectados?\n",
    "\n",
    "    d. Qual a probabilidade de que não haja nenhum animal infectado?\n",
    "\n",
    "    e. Qual a probabilidade de que haja pelo menos 1 animal infectado?\n",
    "\n",
    "### 2. Sabendo que dos 10000 indivíduos 7000 são fêmeas e 3000 são machos.\n",
    "\n",
    "    a. Qual a probabilidade de serem selecionadas 10 fêmeas e 5 machos?\n",
    "\n",
    "    b. Qual a probabilidade de selecionarmos pelo menos 7 fêmeas?\n",
    "\n",
    "    c. Qual a probabilidade de selecionarmos pelo menos dois machos?"
   ]
  },
  {
   "cell_type": "markdown",
   "id": "b01bddb3-509a-46f3-8724-75afc301de4a",
   "metadata": {},
   "source": [
    "## Exercício 1\n",
    "### a. Qual a probabilidade de que o lote tenha 3 animais infectados?"
   ]
  },
  {
   "cell_type": "code",
   "execution_count": 42,
   "id": "04443606-c376-4ba9-8fd2-93ce3535e9af",
   "metadata": {},
   "outputs": [],
   "source": [
    "p=1200/10000\n",
    "q=1-p"
   ]
  },
  {
   "cell_type": "code",
   "execution_count": 26,
   "id": "8deb63b0-2ce4-4ec1-ac66-1047e8aca744",
   "metadata": {},
   "outputs": [],
   "source": [
    "p_3 = math.comb(15,3)*(p**3)*(q**12)"
   ]
  },
  {
   "cell_type": "code",
   "execution_count": 27,
   "id": "0473c8d6-eb1c-4ebe-880d-d23aa846c272",
   "metadata": {},
   "outputs": [
    {
     "name": "stdout",
     "output_type": "stream",
     "text": [
      "A probabilidade de selecionarmos uma amostra de 15 e termos 3 positivo é igual a p=0.170\n"
     ]
    }
   ],
   "source": [
    "print(f'A probabilidade de selecionarmos uma amostra de 15 e termos 3 positivo é igual a p={p_3:0.3f}')"
   ]
  },
  {
   "cell_type": "code",
   "execution_count": 38,
   "id": "d3211d03-e86f-4a65-bba2-25ee9d8b059e",
   "metadata": {},
   "outputs": [
    {
     "name": "stdout",
     "output_type": "stream",
     "text": [
      "A probabilidade de selecionarmos uma amostra de 15 e termos 3 positivo é igual a p=0.170\n"
     ]
    }
   ],
   "source": [
    "# Utilizando distribuição binomial\n",
    "print(f'A probabilidade de selecionarmos uma amostra de 15 e termos 3 positivo é igual a p={binom.pmf(k=3, n=15, p=0.12):0.3f}')"
   ]
  },
  {
   "cell_type": "markdown",
   "id": "9ecb7608-aabd-4276-9b51-4a337a17caf2",
   "metadata": {},
   "source": [
    "### b. Qual a probabilidade de que existam de 3, 4 ou 5 animais infectados?"
   ]
  },
  {
   "cell_type": "code",
   "execution_count": 57,
   "id": "d396daa8-ad5c-4269-bd19-b735cf7eba42",
   "metadata": {},
   "outputs": [
    {
     "name": "stdout",
     "output_type": "stream",
     "text": [
      "A probabilidade de selecionarmos uma amostra de 15 e termos 3, 4 ou 5 positivos é igual a p=0.2597\n"
     ]
    }
   ],
   "source": [
    "positivos = [3, 4, 5]\n",
    "prob=0.0\n",
    "for positivo in positivos:\n",
    "    prob = prob + math.comb(15,positivo)*(p**positivo)*(q**(15-positivo))\n",
    "    \n",
    "print(f'A probabilidade de selecionarmos uma amostra de 15 e termos 3, 4 ou 5 positivos é igual a p={prob:0.4f}')"
   ]
  },
  {
   "cell_type": "code",
   "execution_count": 58,
   "id": "53503dff-5866-430b-9e14-c45fd20b0f08",
   "metadata": {},
   "outputs": [
    {
     "name": "stdout",
     "output_type": "stream",
     "text": [
      "A probabilidade de selecionarmos uma amostra de 15 e termos 3, 4 ou 5 positivos é igual a p=0.2597\n"
     ]
    }
   ],
   "source": [
    "# Utilizando distribuição binomial\n",
    "positivos = [3, 4, 5]\n",
    "prob=0.0\n",
    "for positivo in positivos:\n",
    "    prob = prob + binom.pmf(k=positivo, n=15, p=0.12)\n",
    "\n",
    "print(f'A probabilidade de selecionarmos uma amostra de 15 e termos 3, 4 ou 5 positivos é igual a p={prob:0.4f}')"
   ]
  },
  {
   "cell_type": "markdown",
   "id": "9d984621-c197-4298-a1d1-af53271157ba",
   "metadata": {},
   "source": [
    "### c. Qual a probabilidade de que existam mais do que 7 animais infectados?"
   ]
  },
  {
   "cell_type": "code",
   "execution_count": 44,
   "id": "10f10574-8d9a-44aa-b945-81d5032765e3",
   "metadata": {},
   "outputs": [
    {
     "name": "stdout",
     "output_type": "stream",
     "text": [
      "A probabilidade de selecionarmos uma amostra de 15 e termos mais do que 7 positivos é igual a p=0.00013\n"
     ]
    }
   ],
   "source": [
    "positivos = [8, 9, 10, 11, 12, 13, 14, 15]\n",
    "prob=0.0\n",
    "for positivo in positivos:\n",
    "    prob = prob + math.comb(15,positivo)*(p**positivo)*(q**(15-positivo))\n",
    "    \n",
    "print(f'A probabilidade de selecionarmos uma amostra de 15 e termos mais do que 7 positivos é igual a p={prob:0.5f}')"
   ]
  },
  {
   "cell_type": "code",
   "execution_count": 46,
   "id": "d71c4583-4f78-453f-97b9-02821d691359",
   "metadata": {},
   "outputs": [
    {
     "name": "stdout",
     "output_type": "stream",
     "text": [
      "A probabilidade de selecionarmos uma amostra de 15 e termos 3, 4 ou 5 positivos é igual a p=0.00013\n"
     ]
    }
   ],
   "source": [
    "# Utilizando distribuição binomial\n",
    "prob = 1 - binom.cdf(k=7, n=15, p=0.12)\n",
    "\n",
    "print(f'A probabilidade de selecionarmos uma amostra de 15 e termos 3, 4 ou 5 positivos é igual a p={prob:0.5f}')"
   ]
  },
  {
   "cell_type": "markdown",
   "id": "d7d27537-f339-49cf-9108-c96fcfd25914",
   "metadata": {},
   "source": [
    "### d. Qual a probabilidade de que não haja nenhum animal infectado?"
   ]
  },
  {
   "cell_type": "code",
   "execution_count": 53,
   "id": "509382ea-96ef-45bf-b1e7-1c5e67a59c00",
   "metadata": {},
   "outputs": [
    {
     "name": "stdout",
     "output_type": "stream",
     "text": [
      "A probabilidade de selecionarmos uma amostra com 0 animais infectados p=0.147\n"
     ]
    }
   ],
   "source": [
    "positivo = 0\n",
    "prob = math.comb(15,positivo)*(p**positivo)*(q**(15-positivo))\n",
    "    \n",
    "print(f'A probabilidade de selecionarmos uma amostra com 0 animais infectados p={prob:0.3f}')"
   ]
  },
  {
   "cell_type": "code",
   "execution_count": 54,
   "id": "c5f5e0c2-8b9c-4933-b100-0967ed6c3a05",
   "metadata": {},
   "outputs": [
    {
     "name": "stdout",
     "output_type": "stream",
     "text": [
      "A probabilidade de selecionarmos uma amostra com 0 animais infectados p=0.147\n"
     ]
    }
   ],
   "source": [
    "# Utilizando distribuição binomial\n",
    "positivo = 0\n",
    "prob = binom.pmf(k=positivo, n=15, p=0.12)\n",
    "\n",
    "print(f'A probabilidade de selecionarmos uma amostra com 0 animais infectados p={prob:0.3f}')"
   ]
  },
  {
   "cell_type": "markdown",
   "id": "efbd16b7-71e4-436a-9bdd-31e2db4748bb",
   "metadata": {},
   "source": [
    "### e. Qual a probabilidade de que haja pelo menos 1 animal infectado?"
   ]
  },
  {
   "cell_type": "code",
   "execution_count": 55,
   "id": "8a28d442-3ebd-4d35-a182-afd57faab543",
   "metadata": {},
   "outputs": [
    {
     "name": "stdout",
     "output_type": "stream",
     "text": [
      "A probabilidade de selecionarmos uma amostra com pelo menos 1 animal infectado p=0.853\n"
     ]
    }
   ],
   "source": [
    "positivo = 0\n",
    "prob = 1 - math.comb(15,positivo)*(p**positivo)*(q**(15-positivo))\n",
    "    \n",
    "print(f'A probabilidade de selecionarmos uma amostra com pelo menos 1 animal infectado p={prob:0.3f}')"
   ]
  },
  {
   "cell_type": "code",
   "execution_count": 56,
   "id": "7ef3d681-0841-4d72-b826-9aba1b870b22",
   "metadata": {},
   "outputs": [
    {
     "name": "stdout",
     "output_type": "stream",
     "text": [
      "A probabilidade de selecionarmos uma amostra com 0 animais infectados p=0.853\n"
     ]
    }
   ],
   "source": [
    "# Utilizando distribuição binomial\n",
    "positivo = 0\n",
    "prob = 1 - binom.pmf(k=positivo, n=15, p=0.12)\n",
    "\n",
    "print(f'A probabilidade de selecionarmos uma amostra com 0 animais infectados p={prob:0.3f}')"
   ]
  },
  {
   "cell_type": "markdown",
   "id": "e4da2815-b14d-47a1-b137-ff9aa43468aa",
   "metadata": {},
   "source": [
    "## Exercício 2"
   ]
  },
  {
   "cell_type": "markdown",
   "id": "80660a37-4f54-45dd-80a6-a9a1e8478b66",
   "metadata": {},
   "source": [
    "### a. Qual a probabilidade de serem selecionadas 10 fêmeas e 5 machos?"
   ]
  },
  {
   "cell_type": "code",
   "execution_count": 5,
   "id": "3c068c7c-fdd1-426e-bb65-97885c0623c2",
   "metadata": {},
   "outputs": [
    {
     "name": "stdout",
     "output_type": "stream",
     "text": [
      "A probabilidade de termos 10 fêmeas e 5 machos é p=0.206\n"
     ]
    }
   ],
   "source": [
    "p_f = 7000/10000\n",
    "p_m = 3000/10000\n",
    "\n",
    "n_femeas = 10\n",
    "prob = math.comb(15,n_femeas)*(p_f**n_femeas)*(p_m**(15-n_femeas))\n",
    "    \n",
    "print(f'A probabilidade de termos 10 fêmeas e 5 machos é p={prob:0.3f}')"
   ]
  },
  {
   "cell_type": "code",
   "execution_count": 6,
   "id": "aa61acca-6da4-4d9a-836e-4e460700a8ed",
   "metadata": {},
   "outputs": [
    {
     "name": "stdout",
     "output_type": "stream",
     "text": [
      "A probabilidade de termos 10 fêmeas e 5 machos é p=0.206\n"
     ]
    }
   ],
   "source": [
    "# Utilizando distribuição binomial\n",
    "prob = binom.pmf(k=n_femeas, n=15, p=p_f)\n",
    "\n",
    "print(f'A probabilidade de termos 10 fêmeas e 5 machos é p={prob:0.3f}')"
   ]
  },
  {
   "cell_type": "markdown",
   "id": "facc94dc-bd1a-4c3a-92ef-753b9c0a8020",
   "metadata": {},
   "source": [
    "### b. Qual a probabilidade de selecionarmos pelo menos 7 fêmeas?"
   ]
  },
  {
   "cell_type": "code",
   "execution_count": 7,
   "id": "bae65570-d2f1-4f0d-a87c-dc2ba9effe9f",
   "metadata": {},
   "outputs": [
    {
     "name": "stdout",
     "output_type": "stream",
     "text": [
      "A probabilidade de selecionarmos uma amostra com pelo menos 7 fêmeas é igual a p=0.98476\n"
     ]
    }
   ],
   "source": [
    "n_femeas = [7, 8, 9, 10, 11, 12, 13, 14, 15]\n",
    "\n",
    "# Possibilidade alternativa\n",
    "# np.arange(7,16)\n",
    "\n",
    "prob=0.0\n",
    "for n in n_femeas:\n",
    "    prob = prob + math.comb(15,n)*(p_f**n)*(p_m**(15-n))\n",
    "    \n",
    "print(f'A probabilidade de selecionarmos uma amostra com pelo menos 7 fêmeas é igual a p={prob:0.5f}')"
   ]
  },
  {
   "cell_type": "code",
   "execution_count": 70,
   "id": "32705bc4-3181-4f3c-b7b6-1a1898dfac6b",
   "metadata": {},
   "outputs": [
    {
     "name": "stdout",
     "output_type": "stream",
     "text": [
      "A probabilidade de selecionarmos uma amostra com pelo menos 7 fêmeas é igual a p=0.98476\n"
     ]
    }
   ],
   "source": [
    "# Utilizando distribuição binomial\n",
    "prob = 1 - binom.cdf(k=6, n=15, p=p_f)\n",
    "\n",
    "print(f'A probabilidade de selecionarmos uma amostra com pelo menos 7 fêmeas é igual a p={prob:0.5f}')"
   ]
  },
  {
   "cell_type": "markdown",
   "id": "89c6c7cf-29b2-422a-953a-2affc4fae7e4",
   "metadata": {},
   "source": [
    "### c. Qual a probabilidade de selecionarmos pelo menos dois machos?"
   ]
  },
  {
   "cell_type": "code",
   "execution_count": 73,
   "id": "ad18c40c-f31b-4d98-96b4-e186d386668a",
   "metadata": {},
   "outputs": [
    {
     "name": "stdout",
     "output_type": "stream",
     "text": [
      "A probabilidade de selecionarmos uma amostra com pelo menos 2 machos é igual a p=0.96473\n"
     ]
    }
   ],
   "source": [
    "n_machos = [0, 1]\n",
    "prob=0.0\n",
    "for n in n_machos:\n",
    "    prob = prob + math.comb(15,n)*(p_f**(15-n))*(p_m**(n))\n",
    "    \n",
    "print(f'A probabilidade de selecionarmos uma amostra com pelo menos 2 machos é igual a p={(1-prob):0.5f}')"
   ]
  },
  {
   "cell_type": "code",
   "execution_count": 75,
   "id": "04b0e101-1a58-485e-8875-47cb01fecd5b",
   "metadata": {},
   "outputs": [
    {
     "name": "stdout",
     "output_type": "stream",
     "text": [
      "A probabilidade de selecionarmos uma amostra com pelo menos 2 machos é igual a p=0.96473\n"
     ]
    }
   ],
   "source": [
    "# Utilizando distribuição binomial\n",
    "prob = 1 - binom.cdf(k=1, n=15, p=p_m)\n",
    "\n",
    "print(f'A probabilidade de selecionarmos uma amostra com pelo menos 2 machos é igual a p={prob:0.5f}')"
   ]
  }
 ],
 "metadata": {
  "kernelspec": {
   "display_name": "Base",
   "language": "python",
   "name": "base"
  },
  "language_info": {
   "codemirror_mode": {
    "name": "ipython",
    "version": 3
   },
   "file_extension": ".py",
   "mimetype": "text/x-python",
   "name": "python",
   "nbconvert_exporter": "python",
   "pygments_lexer": "ipython3",
   "version": "3.12.3"
  }
 },
 "nbformat": 4,
 "nbformat_minor": 5
}
