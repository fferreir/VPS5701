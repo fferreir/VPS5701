{
 "cells": [
  {
   "cell_type": "code",
   "execution_count": 21,
   "id": "a224fbeb-b0de-473e-8b31-77e4d7551a31",
   "metadata": {},
   "outputs": [],
   "source": [
    "import math\n",
    "import matplotlib\n",
    "import seaborn as sns"
   ]
  },
  {
   "cell_type": "markdown",
   "id": "bbfdd0fd-d5ae-4516-8177-8f3f15993d58",
   "metadata": {},
   "source": [
    "# Probabilidades\n",
    "\n",
    "## Contagens\n",
    "\n",
    "### Permutações\n",
    "\n",
    "De quantas formas podemos organizar $n$ elementos? Selecionando-se o primeiro elemento restam $(n-1)$ possibilidades para o segundo, $(n-2)$ para o terceiro e assim por diante, logo, o número de permutações é dado por:\n",
    "\n",
    "$$ P(n)=n!$$\n",
    "\n",
    "Podemos usar a função _math.perm_"
   ]
  },
  {
   "cell_type": "code",
   "execution_count": 22,
   "id": "09558271-32dd-4917-b8f0-5ee1db31fa25",
   "metadata": {},
   "outputs": [
    {
     "data": {
      "text/plain": [
       "6"
      ]
     },
     "execution_count": 22,
     "metadata": {},
     "output_type": "execute_result"
    }
   ],
   "source": [
    "# Permutação de 3\n",
    "math.perm(3)"
   ]
  },
  {
   "cell_type": "markdown",
   "id": "fc55070a-164b-44a8-b953-eca1d112ad18",
   "metadata": {},
   "source": [
    "### Arranjos\n",
    "\n",
    "De quantos modos podemos combinar $k$ elementos de um conjunto de $n$ considerando que a ordem dos elementos importa.\n",
    "\n",
    "$$ A(n,k) = n(n-1)(n-2)\\dots(n-k+1) = \\frac{n!}{(n-k)!}$$\n",
    "\n",
    "Suponha que você possui 10 colaboradores e precisa estruturar uma equipe com um coordenador, um vice-coordenador, um secretário e um operador. Quantas possibilidades de equipes existem?"
   ]
  },
  {
   "cell_type": "code",
   "execution_count": 23,
   "id": "c7de0e93-f63f-465c-888f-5714d3670ad6",
   "metadata": {},
   "outputs": [
    {
     "data": {
      "text/plain": [
       "5040.0"
      ]
     },
     "execution_count": 23,
     "metadata": {},
     "output_type": "execute_result"
    }
   ],
   "source": [
    "math.factorial(10)/(math.factorial(10-4))"
   ]
  },
  {
   "cell_type": "markdown",
   "id": "b85e43cc-3b72-45a3-b167-1717a524bd2a",
   "metadata": {},
   "source": [
    "### Combinação\n",
    "\n",
    "De quantas formas podemos compor amostras de tamanho $k$ a partir de elementos de uma população $n$ considerando que a ordem não importa. Assim, basta calcular o arranjo e dividir pelo número de $k$ permutações.\n",
    "\n",
    "$$C(n,k)=\\frac{A(n,k)}{k!}=\\frac{n!}{(n-k)!k!}$$\n",
    "\n",
    "Quantas amostras diferentes podemos selecionar com 5 animais de uma população de 10 indivíduos?"
   ]
  },
  {
   "cell_type": "code",
   "execution_count": 24,
   "id": "531eb5cf-63d8-4a62-bede-daaae907e39d",
   "metadata": {},
   "outputs": [
    {
     "data": {
      "text/plain": [
       "252.0"
      ]
     },
     "execution_count": 24,
     "metadata": {},
     "output_type": "execute_result"
    }
   ],
   "source": [
    "math.factorial(10)/(math.factorial(10-5)*math.factorial(5))"
   ]
  },
  {
   "cell_type": "code",
   "execution_count": 25,
   "id": "3cc3b74a-9dec-442a-97d7-2968fc1390c0",
   "metadata": {},
   "outputs": [
    {
     "data": {
      "text/plain": [
       "252"
      ]
     },
     "execution_count": 25,
     "metadata": {},
     "output_type": "execute_result"
    }
   ],
   "source": [
    "math.comb(10,5)"
   ]
  },
  {
   "cell_type": "markdown",
   "id": "7c8f91db-f880-4d0f-8162-a70f3388fb67",
   "metadata": {},
   "source": [
    "## Problemas"
   ]
  },
  {
   "cell_type": "markdown",
   "id": "286bc02f-8a4c-427d-8196-9d39bbefd260",
   "metadata": {},
   "source": [
    "1. Considere que você irá comprar um lote de 15 animais de uma população de 100 indivíduos dos quais 12 são positivos para doença X.\n",
    " \n",
    "    a. Qual a probabilidade de que o lote tenha 3 animais infectados?\n",
    "\n",
    "    b. Qual a probabilidade de que existam de 3, 4 ou 5 animais infectados?\n",
    "\n",
    "    c. Qual a probabilidade de que existam mais do que 7 animais infectados?\n",
    "\n",
    "    d. Qual a probabilidade de que não haja nenhum animal infectado?\n",
    "\n",
    "    e. Qual a probabilidade de que haja pelo menos 1 animal infectado?\n",
    "\n",
    "3. Sabendo que dos 1000 indivíduos 700 são fêmeas e 300 são machos.\n",
    "\n",
    "    a. Qual a probabilidade de serem selecionadas 10 fêmeas e 5 machos?\n",
    "\n",
    "    b. Qual a probabilidade de selecionarmos pelo menos 7 fêmeas?\n",
    "\n",
    "    c. Qual a probabilidade de selecionarmos pele menos dois machos?"
   ]
  },
  {
   "cell_type": "markdown",
   "id": "b01bddb3-509a-46f3-8724-75afc301de4a",
   "metadata": {},
   "source": [
    "Respostas:\n",
    "\n",
    "1. a."
   ]
  },
  {
   "cell_type": "code",
   "execution_count": 28,
   "id": "04443606-c376-4ba9-8fd2-93ce3535e9af",
   "metadata": {},
   "outputs": [],
   "source": [
    "p=12/100\n",
    "q=1-p"
   ]
  },
  {
   "cell_type": "code",
   "execution_count": 31,
   "id": "8deb63b0-2ce4-4ec1-ac66-1047e8aca744",
   "metadata": {},
   "outputs": [
    {
     "data": {
      "text/plain": [
       "0.16956928955323844"
      ]
     },
     "execution_count": 31,
     "metadata": {},
     "output_type": "execute_result"
    }
   ],
   "source": [
    "math.comb(15,3)*(p**3)*(q**12)"
   ]
  },
  {
   "cell_type": "code",
   "execution_count": 32,
   "id": "10f10574-8d9a-44aa-b945-81d5032765e3",
   "metadata": {},
   "outputs": [
    {
     "data": {
      "text/plain": [
       "0.12"
      ]
     },
     "execution_count": 32,
     "metadata": {},
     "output_type": "execute_result"
    }
   ],
   "source": [
    "math.comb(15,4)*"
   ]
  },
  {
   "cell_type": "code",
   "execution_count": 33,
   "id": "d71c4583-4f78-453f-97b9-02821d691359",
   "metadata": {},
   "outputs": [
    {
     "data": {
      "text/plain": [
       "0.88"
      ]
     },
     "execution_count": 33,
     "metadata": {},
     "output_type": "execute_result"
    }
   ],
   "source": [
    "q"
   ]
  },
  {
   "cell_type": "code",
   "execution_count": 35,
   "id": "509382ea-96ef-45bf-b1e7-1c5e67a59c00",
   "metadata": {},
   "outputs": [
    {
     "data": {
      "text/plain": [
       "0.215671155821681"
      ]
     },
     "execution_count": 35,
     "metadata": {},
     "output_type": "execute_result"
    }
   ],
   "source": [
    "0.88**(12)"
   ]
  },
  {
   "cell_type": "code",
   "execution_count": 36,
   "id": "c5f5e0c2-8b9c-4933-b100-0967ed6c3a05",
   "metadata": {},
   "outputs": [
    {
     "data": {
      "text/plain": [
       "0.215671155821681"
      ]
     },
     "execution_count": 36,
     "metadata": {},
     "output_type": "execute_result"
    }
   ],
   "source": [
    "math.pow(0.88,12)"
   ]
  },
  {
   "cell_type": "code",
   "execution_count": null,
   "id": "1bce53ce-7d98-4f4c-8b25-6c1e15401ed9",
   "metadata": {},
   "outputs": [],
   "source": []
  }
 ],
 "metadata": {
  "kernelspec": {
   "display_name": "Base",
   "language": "python",
   "name": "base"
  },
  "language_info": {
   "codemirror_mode": {
    "name": "ipython",
    "version": 3
   },
   "file_extension": ".py",
   "mimetype": "text/x-python",
   "name": "python",
   "nbconvert_exporter": "python",
   "pygments_lexer": "ipython3",
   "version": "3.12.11"
  }
 },
 "nbformat": 4,
 "nbformat_minor": 5
}
