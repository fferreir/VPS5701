{
 "cells": [
  {
   "cell_type": "markdown",
   "id": "9c6fe87e-93a6-472d-8b4b-06359c2bae71",
   "metadata": {},
   "source": [
    "# Análise de Risco em Saúde Única\n",
    "\n",
    "Os cálculos e análises no curso serão realizados com auxílio de notebooks e python. Inicialmente é preciso que nos familiarizemos com os principais pacotes que serão utilizados:\n",
    "\n",
    "* Numpy\n",
    "* Scipy\n",
    "* Statsmodels\n",
    "* Matplotlib\n",
    "* Seaborn"
   ]
  },
  {
   "cell_type": "markdown",
   "id": "2f933c8d-8aa7-476c-9acb-a7da16cb4ff4",
   "metadata": {},
   "source": [
    "## Numpy\n",
    "\n",
    "O numpy é uma biblioteca que fornece um array multidimensional, além de vários objetos derivados (matizes e arrays mascarados) e um conjunto de rotinas para operação em arrays (matematicas, logicas, manipulação de formato, ordenamento , seleção, I/O, transformadas de Fourier, álgebra linear básica, estatística básica, simulações e muito mais)."
   ]
  },
  {
   "cell_type": "markdown",
   "id": "4ee0f930-3ef6-4d18-9fb3-fcf6117028c8",
   "metadata": {},
   "source": [
    "Caracteristicas de um array:\n",
    "\n",
    "* Possui tamanho fixo estabelecido na criação. Qualquer alteração irá gerar um novo array.\n",
    "* Os elementos do array são do mesmo tipo.\n",
    "* Facilita a realização de operações matemáticas em grande número de registros.\n",
    "* Várias aplicações em python utilizam arrays numpy.\n",
    "\n",
    "### O que torna o numpy tão rápido?\n",
    "* **_Vetorização_**: processo de aplicar uma operação em um array inteiro de uma só vez, em vez de elemento por elemento. O NumPy executa essas operações em um nível de código C compilado, o que é ordens de magnitude mais rápido do que usar um laço for em Python. Exemplo:"
   ]
  },
  {
   "cell_type": "code",
   "execution_count": 2,
   "id": "bd8781b9-9e10-4646-a059-fb883142be49",
   "metadata": {},
   "outputs": [
    {
     "name": "stdout",
     "output_type": "stream",
     "text": [
      "[ 4 10 18]\n"
     ]
    }
   ],
   "source": [
    "import numpy as np\n",
    "\n",
    "a = np.array([1,2,3])\n",
    "b = np.array([4,5,6])\n",
    "print(a*b)"
   ]
  },
  {
   "cell_type": "markdown",
   "id": "504e67d8-ab5e-40c9-9a49-31d5a2c23bd7",
   "metadata": {},
   "source": [
    "Este código é mais simples e rápido que o seguinte:"
   ]
  },
  {
   "cell_type": "code",
   "execution_count": 7,
   "id": "b149e43e-f3f8-4ea2-b874-81507f9ec856",
   "metadata": {},
   "outputs": [
    {
     "name": "stdout",
     "output_type": "stream",
     "text": [
      "[ 4. 10. 18.]\n"
     ]
    }
   ],
   "source": [
    "c = np.empty(3)\n",
    "for i in range(3):\n",
    "    c[i] = a[i]*b[i]\n",
    "\n",
    "print(c)"
   ]
  },
  {
   "cell_type": "markdown",
   "id": "22e14f5d-d31a-4e55-a16b-60bbbc2537cd",
   "metadata": {},
   "source": [
    "* **_Broadcasting_**: é o conjunto de regras que o NumPy utiliza para permitir operações entre arrays de diferentes formatos e tamanhos. O broadcasting \"estica\" virtualmente o array menor para que seu formato corresponda ao do array maior, permitindo que a operação vetorizada ocorra.\n",
    "\n",
    "Isso evita a necessidade de criar cópias desnecessárias dos dados apenas para que os tamanhos correspondam."
   ]
  },
  {
   "cell_type": "code",
   "execution_count": 10,
   "id": "c9329c36-b1c2-4d7f-8e9c-8da275f71388",
   "metadata": {},
   "outputs": [
    {
     "name": "stdout",
     "output_type": "stream",
     "text": [
      "[2 4 6]\n"
     ]
    }
   ],
   "source": [
    "a = np.array([1,2,3])\n",
    "b = 2\n",
    "print(a*b)"
   ]
  },
  {
   "cell_type": "markdown",
   "id": "a95a7975-24d4-4515-bec5-6c8e21986c3b",
   "metadata": {},
   "source": [
    "![Broadcasting](https://numpy.org/doc/stable/_images/broadcasting_1.png)"
   ]
  },
  {
   "cell_type": "markdown",
   "id": "e67549d0-1f97-4d37-958b-1cb4bbb5f2a2",
   "metadata": {},
   "source": [
    "### Conceitos básicos\n",
    "\n",
    "* ndarray.ndim: número de dimensões"
   ]
  },
  {
   "cell_type": "code",
   "execution_count": 26,
   "id": "a49d0c46-98cf-4d5a-b900-6cecee2a59e3",
   "metadata": {},
   "outputs": [],
   "source": [
    "a = np.array([1,2,3])"
   ]
  },
  {
   "cell_type": "code",
   "execution_count": 27,
   "id": "2837a09f-f739-4927-be37-4b77e660e500",
   "metadata": {},
   "outputs": [
    {
     "name": "stdout",
     "output_type": "stream",
     "text": [
      "Número de dimensões: 1\n"
     ]
    }
   ],
   "source": [
    "print(f'Número de dimensões: {a.ndim}')"
   ]
  },
  {
   "cell_type": "code",
   "execution_count": 28,
   "id": "cba5e0f4-54c1-404a-bd33-ff122d2aa179",
   "metadata": {},
   "outputs": [],
   "source": [
    "a = np.array([[1,2,3],\n",
    "              [4,5,6]])"
   ]
  },
  {
   "cell_type": "code",
   "execution_count": 29,
   "id": "8ea8cd21-c3c7-444e-8be4-20e752f5bd21",
   "metadata": {},
   "outputs": [
    {
     "name": "stdout",
     "output_type": "stream",
     "text": [
      "Número de dimensões: 2\n"
     ]
    }
   ],
   "source": [
    "print(f'Número de dimensões: {a.ndim}')"
   ]
  },
  {
   "cell_type": "markdown",
   "id": "67fc7edb-4b5d-4cf7-85fd-70087df4a399",
   "metadata": {},
   "source": [
    "* ndarray.shape: dimensões de um array"
   ]
  },
  {
   "cell_type": "code",
   "execution_count": 30,
   "id": "02510d02-9852-4aad-acb1-e41ecee2671e",
   "metadata": {},
   "outputs": [
    {
     "name": "stdout",
     "output_type": "stream",
     "text": [
      "(2, 3)\n"
     ]
    }
   ],
   "source": [
    "print(a.shape)"
   ]
  },
  {
   "cell_type": "code",
   "execution_count": 31,
   "id": "b924d761-db50-4ddf-8b04-f92dca2084df",
   "metadata": {},
   "outputs": [],
   "source": [
    "b = np.array([[[1,2],[3,4]],\n",
    "              [[1,2],[3,4]]])"
   ]
  },
  {
   "cell_type": "code",
   "execution_count": 33,
   "id": "37cdf062-3663-481f-beb9-ee5040557d8c",
   "metadata": {},
   "outputs": [
    {
     "name": "stdout",
     "output_type": "stream",
     "text": [
      "(2, 2, 2)\n"
     ]
    }
   ],
   "source": [
    "print(b.shape)"
   ]
  },
  {
   "cell_type": "markdown",
   "id": "64dd1708-bf08-46dd-b274-0fd5b015e5fa",
   "metadata": {},
   "source": [
    "* ndarray.size: número de elementos de um array"
   ]
  },
  {
   "cell_type": "code",
   "execution_count": 34,
   "id": "850117e7-89a5-48fc-a529-bed3167c6032",
   "metadata": {},
   "outputs": [
    {
     "name": "stdout",
     "output_type": "stream",
     "text": [
      "6\n"
     ]
    }
   ],
   "source": [
    "print(a.size)"
   ]
  },
  {
   "cell_type": "code",
   "execution_count": 35,
   "id": "a53f2f7a-0540-4041-82d3-31820eac188f",
   "metadata": {},
   "outputs": [
    {
     "name": "stdout",
     "output_type": "stream",
     "text": [
      "8\n"
     ]
    }
   ],
   "source": [
    "print(b.size)"
   ]
  },
  {
   "cell_type": "code",
   "execution_count": 36,
   "id": "801630bf-9488-45cf-8a64-d2be7c1fbf0b",
   "metadata": {},
   "outputs": [
    {
     "name": "stdout",
     "output_type": "stream",
     "text": [
      "int64\n"
     ]
    }
   ],
   "source": [
    "print(a.dtype)"
   ]
  },
  {
   "cell_type": "code",
   "execution_count": 37,
   "id": "2baa8f01-1a72-4910-a69d-e883fea92e7f",
   "metadata": {},
   "outputs": [],
   "source": [
    "c = np.array([1.0,2.0,3.0])"
   ]
  },
  {
   "cell_type": "code",
   "execution_count": 38,
   "id": "9a72f569-42c6-47e1-a1d2-b3cceca25370",
   "metadata": {},
   "outputs": [
    {
     "name": "stdout",
     "output_type": "stream",
     "text": [
      "float64\n"
     ]
    }
   ],
   "source": [
    "print(c.dtype)"
   ]
  },
  {
   "cell_type": "code",
   "execution_count": null,
   "id": "d73c2db8-644a-4728-a2ab-ead632325095",
   "metadata": {},
   "outputs": [],
   "source": []
  }
 ],
 "metadata": {
  "kernelspec": {
   "display_name": "Análise de Risco",
   "language": "python",
   "name": "risco"
  },
  "language_info": {
   "codemirror_mode": {
    "name": "ipython",
    "version": 3
   },
   "file_extension": ".py",
   "mimetype": "text/x-python",
   "name": "python",
   "nbconvert_exporter": "python",
   "pygments_lexer": "ipython3",
   "version": "3.12.3"
  }
 },
 "nbformat": 4,
 "nbformat_minor": 5
}
