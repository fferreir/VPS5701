{
 "cells": [
  {
   "cell_type": "markdown",
   "id": "9c6fe87e-93a6-472d-8b4b-06359c2bae71",
   "metadata": {},
   "source": [
    "# Análise de Risco em Saúde Única\n",
    "\n",
    "Os cálculos e análises no curso serão realizados com auxílio de notebooks e python. Inicialmente é preciso que nos familiarizemos com os principais pacotes que serão utilizados:\n",
    "\n",
    "* Numpy\n",
    "* Scipy\n",
    "* Statsmodels\n",
    "* Matplotlib\n",
    "* Seaborn"
   ]
  },
  {
   "cell_type": "markdown",
   "id": "2f933c8d-8aa7-476c-9acb-a7da16cb4ff4",
   "metadata": {},
   "source": [
    "## Numpy\n",
    "\n",
    "O numpy é uma biblioteca que fornece um array multidimensional, além de vários objetos derivados (matizes e arrays mascarados) e um conjunto de rotinas para operação em arrays (matematicas, logicas, manipulação de formato, ordenamento , seleção, I/O, transformadas de Fourier, álgebra linear básica, estatística básica, simulações e muito mais)."
   ]
  },
  {
   "cell_type": "markdown",
   "id": "4ee0f930-3ef6-4d18-9fb3-fcf6117028c8",
   "metadata": {},
   "source": [
    "Caracteristicas de um array:\n",
    "\n",
    "* Possui tamanho fixo estabelecido na criação. Qualquer alteração irá gerar um novo array.\n",
    "* Os elementos do array são do mesmo tipo.\n",
    "* Facilita a realização de operações matemáticas em grande número de registros.\n",
    "* Várias aplicações em python utilizam arrays numpy.\n",
    "\n",
    "### O que torna o numpy tão rápido?\n",
    "* **_Vetorização_**: processo de aplicar uma operação em um array inteiro de uma só vez, em vez de elemento por elemento. O NumPy executa essas operações em um nível de código C compilado, o que é ordens de magnitude mais rápido do que usar um laço for em Python. Exemplo:"
   ]
  },
  {
   "cell_type": "code",
   "execution_count": 2,
   "id": "bd8781b9-9e10-4646-a059-fb883142be49",
   "metadata": {},
   "outputs": [
    {
     "name": "stdout",
     "output_type": "stream",
     "text": [
      "[ 4 10 18]\n"
     ]
    }
   ],
   "source": [
    "import numpy as np\n",
    "\n",
    "a = np.array([1,2,3])\n",
    "b = np.array([4,5,6])\n",
    "print(a*b)"
   ]
  },
  {
   "cell_type": "markdown",
   "id": "504e67d8-ab5e-40c9-9a49-31d5a2c23bd7",
   "metadata": {},
   "source": [
    "Este código é mais simples e rápido que o seguinte:"
   ]
  },
  {
   "cell_type": "code",
   "execution_count": 7,
   "id": "b149e43e-f3f8-4ea2-b874-81507f9ec856",
   "metadata": {},
   "outputs": [
    {
     "name": "stdout",
     "output_type": "stream",
     "text": [
      "[ 4. 10. 18.]\n"
     ]
    }
   ],
   "source": [
    "c = np.empty(3)\n",
    "for i in range(3):\n",
    "    c[i] = a[i]*b[i]\n",
    "\n",
    "print(c)"
   ]
  },
  {
   "cell_type": "markdown",
   "id": "22e14f5d-d31a-4e55-a16b-60bbbc2537cd",
   "metadata": {},
   "source": [
    "* **_Broadcasting_**: é o conjunto de regras que o NumPy utiliza para permitir operações entre arrays de diferentes formatos e tamanhos. O broadcasting \"estica\" virtualmente o array menor para que seu formato corresponda ao do array maior, permitindo que a operação vetorizada ocorra.\n",
    "\n",
    "Isso evita a necessidade de criar cópias desnecessárias dos dados apenas para que os tamanhos correspondam."
   ]
  },
  {
   "cell_type": "code",
   "execution_count": 10,
   "id": "c9329c36-b1c2-4d7f-8e9c-8da275f71388",
   "metadata": {},
   "outputs": [
    {
     "name": "stdout",
     "output_type": "stream",
     "text": [
      "[2 4 6]\n"
     ]
    }
   ],
   "source": [
    "a = np.array([1,2,3])\n",
    "b = 2\n",
    "print(a*b)"
   ]
  },
  {
   "cell_type": "markdown",
   "id": "a95a7975-24d4-4515-bec5-6c8e21986c3b",
   "metadata": {},
   "source": [
    "![Broadcasting](https://numpy.org/doc/stable/_images/broadcasting_1.png)"
   ]
  },
  {
   "cell_type": "markdown",
   "id": "e67549d0-1f97-4d37-958b-1cb4bbb5f2a2",
   "metadata": {},
   "source": [
    "### Conceitos básicos\n",
    "\n",
    "* ndarray.ndim: número de dimensões"
   ]
  },
  {
   "cell_type": "code",
   "execution_count": 26,
   "id": "a49d0c46-98cf-4d5a-b900-6cecee2a59e3",
   "metadata": {},
   "outputs": [],
   "source": [
    "a = np.array([1,2,3])"
   ]
  },
  {
   "cell_type": "code",
   "execution_count": 27,
   "id": "2837a09f-f739-4927-be37-4b77e660e500",
   "metadata": {},
   "outputs": [
    {
     "name": "stdout",
     "output_type": "stream",
     "text": [
      "Número de dimensões: 1\n"
     ]
    }
   ],
   "source": [
    "print(f'Número de dimensões: {a.ndim}')"
   ]
  },
  {
   "cell_type": "code",
   "execution_count": 28,
   "id": "cba5e0f4-54c1-404a-bd33-ff122d2aa179",
   "metadata": {},
   "outputs": [],
   "source": [
    "a = np.array([[1,2,3],\n",
    "              [4,5,6]])"
   ]
  },
  {
   "cell_type": "code",
   "execution_count": 29,
   "id": "8ea8cd21-c3c7-444e-8be4-20e752f5bd21",
   "metadata": {},
   "outputs": [
    {
     "name": "stdout",
     "output_type": "stream",
     "text": [
      "Número de dimensões: 2\n"
     ]
    }
   ],
   "source": [
    "print(f'Número de dimensões: {a.ndim}')"
   ]
  },
  {
   "cell_type": "markdown",
   "id": "67fc7edb-4b5d-4cf7-85fd-70087df4a399",
   "metadata": {},
   "source": [
    "* ndarray.shape: dimensões de um array"
   ]
  },
  {
   "cell_type": "code",
   "execution_count": 30,
   "id": "02510d02-9852-4aad-acb1-e41ecee2671e",
   "metadata": {},
   "outputs": [
    {
     "name": "stdout",
     "output_type": "stream",
     "text": [
      "(2, 3)\n"
     ]
    }
   ],
   "source": [
    "print(a.shape)"
   ]
  },
  {
   "cell_type": "code",
   "execution_count": 49,
   "id": "b924d761-db50-4ddf-8b04-f92dca2084df",
   "metadata": {},
   "outputs": [],
   "source": [
    "b = np.array([[[1,2,3],[3,4,5]],\n",
    "              [[6,7,8],[9,10,11]]])"
   ]
  },
  {
   "cell_type": "code",
   "execution_count": 44,
   "id": "37cdf062-3663-481f-beb9-ee5040557d8c",
   "metadata": {},
   "outputs": [
    {
     "name": "stdout",
     "output_type": "stream",
     "text": [
      "(2, 2, 3)\n"
     ]
    }
   ],
   "source": [
    "print(b.shape)"
   ]
  },
  {
   "cell_type": "markdown",
   "id": "64dd1708-bf08-46dd-b274-0fd5b015e5fa",
   "metadata": {},
   "source": [
    "* ndarray.size: número de elementos de um array"
   ]
  },
  {
   "cell_type": "code",
   "execution_count": 34,
   "id": "850117e7-89a5-48fc-a529-bed3167c6032",
   "metadata": {},
   "outputs": [
    {
     "name": "stdout",
     "output_type": "stream",
     "text": [
      "6\n"
     ]
    }
   ],
   "source": [
    "print(a.size)"
   ]
  },
  {
   "cell_type": "code",
   "execution_count": 35,
   "id": "a53f2f7a-0540-4041-82d3-31820eac188f",
   "metadata": {},
   "outputs": [
    {
     "name": "stdout",
     "output_type": "stream",
     "text": [
      "8\n"
     ]
    }
   ],
   "source": [
    "print(b.size)"
   ]
  },
  {
   "cell_type": "markdown",
   "id": "893df4cc-86cc-4522-9aa1-2a202b60a8c2",
   "metadata": {},
   "source": [
    "#### Acessando elementos"
   ]
  },
  {
   "cell_type": "code",
   "execution_count": 52,
   "id": "4a43ca33-9aa8-4cd6-a0bd-d9d74851a606",
   "metadata": {},
   "outputs": [
    {
     "data": {
      "text/plain": [
       "np.int64(3)"
      ]
     },
     "execution_count": 52,
     "metadata": {},
     "output_type": "execute_result"
    }
   ],
   "source": [
    "b[0][1][0]"
   ]
  },
  {
   "cell_type": "code",
   "execution_count": 51,
   "id": "cf61551d-1e87-4438-89a4-8a9c3511ca70",
   "metadata": {},
   "outputs": [
    {
     "data": {
      "text/plain": [
       "np.int64(9)"
      ]
     },
     "execution_count": 51,
     "metadata": {},
     "output_type": "execute_result"
    }
   ],
   "source": [
    "b[1][1][0]"
   ]
  },
  {
   "cell_type": "markdown",
   "id": "223f4293-98df-4e28-929e-00e9462f5731",
   "metadata": {},
   "source": [
    "#### Identificando o tipo"
   ]
  },
  {
   "cell_type": "code",
   "execution_count": 36,
   "id": "801630bf-9488-45cf-8a64-d2be7c1fbf0b",
   "metadata": {},
   "outputs": [
    {
     "name": "stdout",
     "output_type": "stream",
     "text": [
      "int64\n"
     ]
    }
   ],
   "source": [
    "print(a.dtype)"
   ]
  },
  {
   "cell_type": "code",
   "execution_count": 37,
   "id": "2baa8f01-1a72-4910-a69d-e883fea92e7f",
   "metadata": {},
   "outputs": [],
   "source": [
    "c = np.array([1.0,2.0,3.0])"
   ]
  },
  {
   "cell_type": "code",
   "execution_count": 38,
   "id": "9a72f569-42c6-47e1-a1d2-b3cceca25370",
   "metadata": {},
   "outputs": [
    {
     "name": "stdout",
     "output_type": "stream",
     "text": [
      "float64\n"
     ]
    }
   ],
   "source": [
    "print(c.dtype)"
   ]
  },
  {
   "cell_type": "markdown",
   "id": "e2cc0b7a-c0c5-47b2-a75d-c1d7d51c9f5b",
   "metadata": {},
   "source": [
    "#### Criando array 2d usando método reshape"
   ]
  },
  {
   "cell_type": "code",
   "execution_count": 57,
   "id": "ee4000cf-bc0d-43e3-a7fc-e9d9975afd06",
   "metadata": {},
   "outputs": [],
   "source": [
    "a = np.array(range(12)).reshape(3,4)"
   ]
  },
  {
   "cell_type": "code",
   "execution_count": 58,
   "id": "df5fff21-5633-44eb-8c84-a5eb645717f8",
   "metadata": {},
   "outputs": [
    {
     "name": "stdout",
     "output_type": "stream",
     "text": [
      "[[ 0  1  2  3]\n",
      " [ 4  5  6  7]\n",
      " [ 8  9 10 11]]\n"
     ]
    }
   ],
   "source": [
    "print(a)"
   ]
  },
  {
   "cell_type": "markdown",
   "id": "38d00090-acfe-4b57-9499-3e73eca65880",
   "metadata": {},
   "source": [
    "#### Criando arrays de zeros e uns"
   ]
  },
  {
   "cell_type": "code",
   "execution_count": 59,
   "id": "a50e5b17-892f-4524-b503-322b39fc37b1",
   "metadata": {},
   "outputs": [
    {
     "data": {
      "text/plain": [
       "array([0., 0., 0., 0., 0.])"
      ]
     },
     "execution_count": 59,
     "metadata": {},
     "output_type": "execute_result"
    }
   ],
   "source": [
    "np.zeros(5)"
   ]
  },
  {
   "cell_type": "code",
   "execution_count": 60,
   "id": "21778818-05e7-4934-95ca-79b81cc3cca7",
   "metadata": {},
   "outputs": [
    {
     "data": {
      "text/plain": [
       "array([[0., 0., 0.],\n",
       "       [0., 0., 0.]])"
      ]
     },
     "execution_count": 60,
     "metadata": {},
     "output_type": "execute_result"
    }
   ],
   "source": [
    "np.zeros(6).reshape(2,3)"
   ]
  },
  {
   "cell_type": "code",
   "execution_count": 61,
   "id": "ea430ea7-9d09-4397-9b20-41fa2fe635b4",
   "metadata": {},
   "outputs": [
    {
     "data": {
      "text/plain": [
       "array([1., 1., 1., 1., 1.])"
      ]
     },
     "execution_count": 61,
     "metadata": {},
     "output_type": "execute_result"
    }
   ],
   "source": [
    "np.ones(5)"
   ]
  },
  {
   "cell_type": "code",
   "execution_count": 62,
   "id": "e020f1af-0c02-4c59-b14e-386bd341691a",
   "metadata": {},
   "outputs": [
    {
     "data": {
      "text/plain": [
       "array([[1., 1.],\n",
       "       [1., 1.],\n",
       "       [1., 1.]])"
      ]
     },
     "execution_count": 62,
     "metadata": {},
     "output_type": "execute_result"
    }
   ],
   "source": [
    "np.ones(6).reshape(3,2)"
   ]
  },
  {
   "cell_type": "markdown",
   "id": "094b3a21-7895-468d-a344-6fac017e318b",
   "metadata": {},
   "source": [
    "#### Criando arrays com sequência de números"
   ]
  },
  {
   "cell_type": "code",
   "execution_count": 64,
   "id": "174e5bed-5006-417c-949b-487e68704913",
   "metadata": {},
   "outputs": [
    {
     "data": {
      "text/plain": [
       "array([0, 1, 2, 3, 4])"
      ]
     },
     "execution_count": 64,
     "metadata": {},
     "output_type": "execute_result"
    }
   ],
   "source": [
    "np.arange(5)"
   ]
  },
  {
   "cell_type": "code",
   "execution_count": 68,
   "id": "e0619dc9-f710-4b40-be3b-c601bdf5813e",
   "metadata": {},
   "outputs": [
    {
     "data": {
      "text/plain": [
       "array([ 0.        ,  0.52631579,  1.05263158,  1.57894737,  2.10526316,\n",
       "        2.63157895,  3.15789474,  3.68421053,  4.21052632,  4.73684211,\n",
       "        5.26315789,  5.78947368,  6.31578947,  6.84210526,  7.36842105,\n",
       "        7.89473684,  8.42105263,  8.94736842,  9.47368421, 10.        ])"
      ]
     },
     "execution_count": 68,
     "metadata": {},
     "output_type": "execute_result"
    }
   ],
   "source": [
    "np.linspace(0, 10, 20)"
   ]
  },
  {
   "cell_type": "markdown",
   "id": "009424cf-00a6-4d74-b612-a0286b513d99",
   "metadata": {},
   "source": [
    "##### Gerando arrays de números aleatórios"
   ]
  },
  {
   "cell_type": "code",
   "execution_count": 78,
   "id": "6fc93dc5-1053-465c-b4f7-a77d9dc4feef",
   "metadata": {},
   "outputs": [
    {
     "data": {
      "text/plain": [
       "array([0.12723277, 0.49238145, 0.29943314, 0.59432413, 0.79218917,\n",
       "       0.39994399, 0.89568272, 0.67470059, 0.50750727, 0.98550869])"
      ]
     },
     "execution_count": 78,
     "metadata": {},
     "output_type": "execute_result"
    }
   ],
   "source": [
    "np.random.rand(10)"
   ]
  },
  {
   "cell_type": "code",
   "execution_count": 81,
   "id": "f7d72989-5f11-454d-a8ab-ac9e6dc4ccf0",
   "metadata": {},
   "outputs": [
    {
     "data": {
      "text/plain": [
       "array([43, 98, 41, 17, 43, 33, 95, 18, 76, 25])"
      ]
     },
     "execution_count": 81,
     "metadata": {},
     "output_type": "execute_result"
    }
   ],
   "source": [
    "np.random.randint(0, 100, 10)"
   ]
  },
  {
   "cell_type": "code",
   "execution_count": 83,
   "id": "0a636c2a-362d-4f05-a8dd-779468af5add",
   "metadata": {},
   "outputs": [
    {
     "data": {
      "text/plain": [
       "array([-0.67755322, -0.94658194, -1.95296041, -1.01707447, -1.1109748 ,\n",
       "        0.16961242,  0.56513231, -0.80045402, -0.66234339, -0.8012368 ])"
      ]
     },
     "execution_count": 83,
     "metadata": {},
     "output_type": "execute_result"
    }
   ],
   "source": [
    "np.random.normal(0, 1, 10)"
   ]
  },
  {
   "cell_type": "code",
   "execution_count": 90,
   "id": "2b785dfc-b666-43be-9a58-fe3ea4821919",
   "metadata": {},
   "outputs": [
    {
     "data": {
      "text/plain": [
       "array([4, 5, 4, 3, 6, 3, 4, 5, 4, 5, 5, 7, 5, 6, 3, 6, 6, 6, 4, 5, 5, 4,\n",
       "       5, 6, 3, 7, 4, 6, 4, 1, 3, 6, 6, 5, 6, 9, 6, 1, 8, 3, 4, 8, 3, 4,\n",
       "       7, 4, 6, 7, 7, 4, 3, 5, 6, 3, 5, 5, 3, 5, 6, 4, 7, 6, 8, 5, 3, 4,\n",
       "       4, 4, 5, 7, 4, 5, 7, 3, 3, 4, 6, 6, 5, 3, 6, 6, 2, 6, 7, 5, 7, 5,\n",
       "       5, 4, 6, 6, 6, 4, 6, 4, 7, 5, 5, 7])"
      ]
     },
     "execution_count": 90,
     "metadata": {},
     "output_type": "execute_result"
    }
   ],
   "source": [
    "np.random.binomial(10, 0.5, 100)"
   ]
  },
  {
   "cell_type": "markdown",
   "id": "529b4c82-c520-43d7-9fee-143b8351a84c",
   "metadata": {},
   "source": [
    "### Operações básicas com arrays\n",
    "#### Operações algébricas\n",
    "São realizadas elemento a elemento"
   ]
  },
  {
   "cell_type": "code",
   "execution_count": 72,
   "id": "e33610e4-c059-4c70-84fe-31188623f9b2",
   "metadata": {},
   "outputs": [],
   "source": [
    "a = np.array([1,2,3,4])\n",
    "b = np.array([5,6,7,8])"
   ]
  },
  {
   "cell_type": "code",
   "execution_count": 73,
   "id": "5015b857-8d77-4414-b5e3-bd125ece19f3",
   "metadata": {},
   "outputs": [
    {
     "data": {
      "text/plain": [
       "array([ 6,  8, 10, 12])"
      ]
     },
     "execution_count": 73,
     "metadata": {},
     "output_type": "execute_result"
    }
   ],
   "source": [
    "a + b"
   ]
  },
  {
   "cell_type": "code",
   "execution_count": 74,
   "id": "1b94d65f-f0fd-4a9c-bb7c-69da8279846b",
   "metadata": {},
   "outputs": [
    {
     "data": {
      "text/plain": [
       "array([-4, -4, -4, -4])"
      ]
     },
     "execution_count": 74,
     "metadata": {},
     "output_type": "execute_result"
    }
   ],
   "source": [
    "a - b"
   ]
  },
  {
   "cell_type": "code",
   "execution_count": 75,
   "id": "8518859c-e7a6-4272-baa6-38122e93d02d",
   "metadata": {},
   "outputs": [
    {
     "data": {
      "text/plain": [
       "array([ 5, 12, 21, 32])"
      ]
     },
     "execution_count": 75,
     "metadata": {},
     "output_type": "execute_result"
    }
   ],
   "source": [
    "a * b"
   ]
  },
  {
   "cell_type": "code",
   "execution_count": 76,
   "id": "9261d9b9-706f-420b-aec5-1255f870b5e1",
   "metadata": {},
   "outputs": [
    {
     "data": {
      "text/plain": [
       "array([   5,   36,  343, 4096])"
      ]
     },
     "execution_count": 76,
     "metadata": {},
     "output_type": "execute_result"
    }
   ],
   "source": [
    "b ** a"
   ]
  },
  {
   "cell_type": "markdown",
   "id": "79e1c8ce-687e-45be-891a-1cd5ebb08580",
   "metadata": {},
   "source": [
    "#### Outras operações"
   ]
  },
  {
   "cell_type": "code",
   "execution_count": 113,
   "id": "31bcf3b4-3eab-4522-b800-31be56f6f279",
   "metadata": {},
   "outputs": [],
   "source": [
    "a = np.array([2, 4, 5.0, 1, 21, 18, 7])"
   ]
  },
  {
   "cell_type": "code",
   "execution_count": 114,
   "id": "1f90d3e8-c965-45d3-b077-b01ea03d870e",
   "metadata": {},
   "outputs": [
    {
     "data": {
      "text/plain": [
       "np.int64(4)"
      ]
     },
     "execution_count": 114,
     "metadata": {},
     "output_type": "execute_result"
    }
   ],
   "source": [
    "a.argmax()"
   ]
  },
  {
   "cell_type": "code",
   "execution_count": 115,
   "id": "db1b0e78-0c40-4e73-be74-f9e79774f60a",
   "metadata": {},
   "outputs": [
    {
     "data": {
      "text/plain": [
       "np.int64(3)"
      ]
     },
     "execution_count": 115,
     "metadata": {},
     "output_type": "execute_result"
    }
   ],
   "source": [
    "a.argmin()"
   ]
  },
  {
   "cell_type": "code",
   "execution_count": 116,
   "id": "cae364c0-19f1-454e-ada2-04a50e798023",
   "metadata": {},
   "outputs": [
    {
     "data": {
      "text/plain": [
       "np.float64(8.285714285714286)"
      ]
     },
     "execution_count": 116,
     "metadata": {},
     "output_type": "execute_result"
    }
   ],
   "source": [
    "a.mean()"
   ]
  },
  {
   "cell_type": "code",
   "execution_count": 117,
   "id": "378b1fe2-8103-411e-8ad3-9daf42a1f52e",
   "metadata": {},
   "outputs": [
    {
     "data": {
      "text/plain": [
       "np.float64(7.362342129557215)"
      ]
     },
     "execution_count": 117,
     "metadata": {},
     "output_type": "execute_result"
    }
   ],
   "source": [
    "a.std()"
   ]
  },
  {
   "cell_type": "code",
   "execution_count": 118,
   "id": "bf7480e0-c03e-403f-a029-dc5227a8e123",
   "metadata": {},
   "outputs": [
    {
     "data": {
      "text/plain": [
       "np.float64(58.0)"
      ]
     },
     "execution_count": 118,
     "metadata": {},
     "output_type": "execute_result"
    }
   ],
   "source": [
    "a.sum()"
   ]
  },
  {
   "cell_type": "code",
   "execution_count": 119,
   "id": "2d210c4f-fdd4-4d3d-bd9e-6d0be8d0a9c1",
   "metadata": {},
   "outputs": [
    {
     "data": {
      "text/plain": [
       "array([ 1.,  2.,  4.,  5.,  7., 18., 21.])"
      ]
     },
     "execution_count": 119,
     "metadata": {},
     "output_type": "execute_result"
    }
   ],
   "source": [
    "a.sort()\n",
    "a"
   ]
  },
  {
   "cell_type": "code",
   "execution_count": 103,
   "id": "101a383d-1504-4ba4-9ac4-e96d2fdb7359",
   "metadata": {},
   "outputs": [
    {
     "data": {
      "text/plain": [
       "array([2.0000e+00, 8.0000e+00, 4.0000e+01, 4.0000e+01, 8.4000e+02,\n",
       "       1.5120e+04, 1.0584e+05])"
      ]
     },
     "execution_count": 103,
     "metadata": {},
     "output_type": "execute_result"
    }
   ],
   "source": [
    "np.cumprod(a)"
   ]
  },
  {
   "cell_type": "code",
   "execution_count": 104,
   "id": "f3e4f18d-41dd-46a9-b75c-f0a5ce2946ff",
   "metadata": {},
   "outputs": [
    {
     "data": {
      "text/plain": [
       "array([ 2.,  6., 11., 12., 33., 51., 58.])"
      ]
     },
     "execution_count": 104,
     "metadata": {},
     "output_type": "execute_result"
    }
   ],
   "source": [
    "np.cumsum(a)"
   ]
  },
  {
   "cell_type": "markdown",
   "id": "1822a874-770b-437b-aaf5-4032e53c71d5",
   "metadata": {},
   "source": [
    "### Indexação e fatiamento"
   ]
  },
  {
   "cell_type": "code",
   "execution_count": 120,
   "id": "d158d72e-c08b-4428-a49f-78a4f7ea4aeb",
   "metadata": {},
   "outputs": [
    {
     "data": {
      "text/plain": [
       "array([ 1.,  2.,  4.,  5.,  7., 18., 21.])"
      ]
     },
     "execution_count": 120,
     "metadata": {},
     "output_type": "execute_result"
    }
   ],
   "source": [
    "a"
   ]
  },
  {
   "cell_type": "code",
   "execution_count": 126,
   "id": "8ad673bb-3d86-4ec6-95a4-e1c3afc5aa01",
   "metadata": {},
   "outputs": [
    {
     "data": {
      "text/plain": [
       "np.float64(2.0)"
      ]
     },
     "execution_count": 126,
     "metadata": {},
     "output_type": "execute_result"
    }
   ],
   "source": [
    "a[1]"
   ]
  },
  {
   "cell_type": "code",
   "execution_count": 127,
   "id": "25688c18-5f90-4f66-826a-b70281dd919f",
   "metadata": {},
   "outputs": [
    {
     "data": {
      "text/plain": [
       "np.float64(7.0)"
      ]
     },
     "execution_count": 127,
     "metadata": {},
     "output_type": "execute_result"
    }
   ],
   "source": [
    "a[4]"
   ]
  },
  {
   "cell_type": "code",
   "execution_count": 121,
   "id": "be815d0e-d809-4dd8-b8e9-07858b7759f7",
   "metadata": {},
   "outputs": [
    {
     "data": {
      "text/plain": [
       "array([1., 2.])"
      ]
     },
     "execution_count": 121,
     "metadata": {},
     "output_type": "execute_result"
    }
   ],
   "source": [
    "a[0:2]"
   ]
  },
  {
   "cell_type": "code",
   "execution_count": 122,
   "id": "f4563ff2-dea6-4f3c-91ba-a566b47adc07",
   "metadata": {},
   "outputs": [
    {
     "data": {
      "text/plain": [
       "array([1., 2., 4.])"
      ]
     },
     "execution_count": 122,
     "metadata": {},
     "output_type": "execute_result"
    }
   ],
   "source": [
    "a[:3]"
   ]
  },
  {
   "cell_type": "code",
   "execution_count": 124,
   "id": "6c111b82-b313-4282-b721-8ef1a7abc3a5",
   "metadata": {},
   "outputs": [
    {
     "data": {
      "text/plain": [
       "array([ 7., 18.])"
      ]
     },
     "execution_count": 124,
     "metadata": {},
     "output_type": "execute_result"
    }
   ],
   "source": [
    "a[-3:-1]"
   ]
  },
  {
   "cell_type": "code",
   "execution_count": 125,
   "id": "196d6dcd-c649-4090-8efa-1e5d6af36434",
   "metadata": {},
   "outputs": [
    {
     "data": {
      "text/plain": [
       "array([ 5.,  7., 18., 21.])"
      ]
     },
     "execution_count": 125,
     "metadata": {},
     "output_type": "execute_result"
    }
   ],
   "source": [
    "a[-4:]"
   ]
  },
  {
   "cell_type": "markdown",
   "id": "caaad0a9-fcd4-437a-9b7a-1f71f061764d",
   "metadata": {},
   "source": [
    "Cuidado!"
   ]
  },
  {
   "cell_type": "code",
   "execution_count": 128,
   "id": "fcce39fd-2dd1-4131-b583-778d008771c6",
   "metadata": {},
   "outputs": [
    {
     "data": {
      "text/plain": [
       "array([ 1.,  2.,  4.,  5.,  7., 18., 21.])"
      ]
     },
     "execution_count": 128,
     "metadata": {},
     "output_type": "execute_result"
    }
   ],
   "source": [
    "a"
   ]
  },
  {
   "cell_type": "code",
   "execution_count": 129,
   "id": "fcd1ad2b-13ed-401c-9bf8-686575006b64",
   "metadata": {},
   "outputs": [],
   "source": [
    "b = a"
   ]
  },
  {
   "cell_type": "code",
   "execution_count": 130,
   "id": "72977694-36ec-4419-8bb5-cd31aec14dd9",
   "metadata": {},
   "outputs": [
    {
     "data": {
      "text/plain": [
       "array([ 1.,  2.,  4.,  5.,  7., 18., 21.])"
      ]
     },
     "execution_count": 130,
     "metadata": {},
     "output_type": "execute_result"
    }
   ],
   "source": [
    "b"
   ]
  },
  {
   "cell_type": "code",
   "execution_count": 132,
   "id": "99af24b8-2deb-4930-aa12-99fea686e421",
   "metadata": {},
   "outputs": [
    {
     "data": {
      "text/plain": [
       "True"
      ]
     },
     "execution_count": 132,
     "metadata": {},
     "output_type": "execute_result"
    }
   ],
   "source": [
    "b is a"
   ]
  },
  {
   "cell_type": "code",
   "execution_count": 133,
   "id": "7d80c18e-be4f-4e4a-8230-ad8297401c58",
   "metadata": {},
   "outputs": [],
   "source": [
    "b[0] = 1000"
   ]
  },
  {
   "cell_type": "code",
   "execution_count": 134,
   "id": "81890c29-3f04-4580-af65-d03a18cecbc7",
   "metadata": {},
   "outputs": [
    {
     "data": {
      "text/plain": [
       "array([1000.,    2.,    4.,    5.,    7.,   18.,   21.])"
      ]
     },
     "execution_count": 134,
     "metadata": {},
     "output_type": "execute_result"
    }
   ],
   "source": [
    "a"
   ]
  },
  {
   "cell_type": "code",
   "execution_count": 135,
   "id": "216be9ec-ad10-4ae9-8ca5-ef5126145537",
   "metadata": {},
   "outputs": [],
   "source": [
    "b = a.copy()"
   ]
  },
  {
   "cell_type": "code",
   "execution_count": 139,
   "id": "3d4af97e-7221-4f01-895c-19b1ea6b9b56",
   "metadata": {},
   "outputs": [
    {
     "data": {
      "text/plain": [
       "False"
      ]
     },
     "execution_count": 139,
     "metadata": {},
     "output_type": "execute_result"
    }
   ],
   "source": [
    "b is a"
   ]
  },
  {
   "cell_type": "code",
   "execution_count": 136,
   "id": "e40ee559-43b1-4647-a5ac-411da357df72",
   "metadata": {},
   "outputs": [],
   "source": [
    "b[0] = 2000"
   ]
  },
  {
   "cell_type": "code",
   "execution_count": 137,
   "id": "d4855a54-313b-438f-a13f-758cb97a8f59",
   "metadata": {},
   "outputs": [
    {
     "data": {
      "text/plain": [
       "array([1000.,    2.,    4.,    5.,    7.,   18.,   21.])"
      ]
     },
     "execution_count": 137,
     "metadata": {},
     "output_type": "execute_result"
    }
   ],
   "source": [
    "a"
   ]
  },
  {
   "cell_type": "code",
   "execution_count": 138,
   "id": "bb50bab6-710f-4ea4-a6fb-8b162f804bc4",
   "metadata": {},
   "outputs": [
    {
     "data": {
      "text/plain": [
       "array([2000.,    2.,    4.,    5.,    7.,   18.,   21.])"
      ]
     },
     "execution_count": 138,
     "metadata": {},
     "output_type": "execute_result"
    }
   ],
   "source": [
    "b"
   ]
  },
  {
   "cell_type": "markdown",
   "id": "e07e1d37-b185-45e7-9825-62ee1f20f720",
   "metadata": {},
   "source": [
    "### Indexação com array de booleanos"
   ]
  },
  {
   "cell_type": "code",
   "execution_count": 140,
   "id": "86455220-ad45-4ba6-b8cd-5ec2202c02f4",
   "metadata": {},
   "outputs": [
    {
     "data": {
      "text/plain": [
       "array([1000.,    2.,    4.,    5.,    7.,   18.,   21.])"
      ]
     },
     "execution_count": 140,
     "metadata": {},
     "output_type": "execute_result"
    }
   ],
   "source": [
    "a"
   ]
  },
  {
   "cell_type": "code",
   "execution_count": 141,
   "id": "4e4b1104-f008-40fd-9931-4021b424dd57",
   "metadata": {},
   "outputs": [],
   "source": [
    "b = a > 20"
   ]
  },
  {
   "cell_type": "code",
   "execution_count": 142,
   "id": "4ed2399c-eee2-43ca-8062-a13a04b610f8",
   "metadata": {},
   "outputs": [
    {
     "data": {
      "text/plain": [
       "array([ True, False, False, False, False, False,  True])"
      ]
     },
     "execution_count": 142,
     "metadata": {},
     "output_type": "execute_result"
    }
   ],
   "source": [
    "b"
   ]
  },
  {
   "cell_type": "code",
   "execution_count": 143,
   "id": "558f09cf-c084-4017-a2ca-c7530fd659bc",
   "metadata": {},
   "outputs": [
    {
     "data": {
      "text/plain": [
       "array([1000.,   21.])"
      ]
     },
     "execution_count": 143,
     "metadata": {},
     "output_type": "execute_result"
    }
   ],
   "source": [
    "a[b]"
   ]
  },
  {
   "cell_type": "code",
   "execution_count": 144,
   "id": "c38e7955-603c-4e89-839c-e3aa750bdb5a",
   "metadata": {},
   "outputs": [
    {
     "data": {
      "text/plain": [
       "array([1000.,   21.])"
      ]
     },
     "execution_count": 144,
     "metadata": {},
     "output_type": "execute_result"
    }
   ],
   "source": [
    "a[a>20]"
   ]
  },
  {
   "cell_type": "code",
   "execution_count": null,
   "id": "ab75258c-92e2-4850-9bad-dbfe6736bfca",
   "metadata": {},
   "outputs": [],
   "source": []
  }
 ],
 "metadata": {
  "kernelspec": {
   "display_name": "Análise de Risco",
   "language": "python",
   "name": "risco"
  },
  "language_info": {
   "codemirror_mode": {
    "name": "ipython",
    "version": 3
   },
   "file_extension": ".py",
   "mimetype": "text/x-python",
   "name": "python",
   "nbconvert_exporter": "python",
   "pygments_lexer": "ipython3",
   "version": "3.12.3"
  }
 },
 "nbformat": 4,
 "nbformat_minor": 5
}
