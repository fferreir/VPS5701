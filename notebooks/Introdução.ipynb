{
 "cells": [
  {
   "cell_type": "markdown",
   "id": "9c6fe87e-93a6-472d-8b4b-06359c2bae71",
   "metadata": {},
   "source": [
    "# Análise de Risco em Saúde Única\n",
    "\n",
    "Os cálculos e análises no curso serão realizados com auxílio de notebooks e python. Inicialmente é preciso que nos familiarizemos com os principais pacotes que serão utilizados:\n",
    "\n",
    "* Numpy\n",
    "* Scipy\n",
    "* Statsmodels\n",
    "* Matplotlib\n",
    "* Seaborn"
   ]
  },
  {
   "cell_type": "markdown",
   "id": "2f933c8d-8aa7-476c-9acb-a7da16cb4ff4",
   "metadata": {},
   "source": [
    "## Numpy\n",
    "\n",
    "O numpy é uma biblioteca que fornece um array multidimensional, além de vários objetos derivados (matizes e arrays mascarados) e um conjunto de rotinas para operação em arrays (matematicas, logicas, manipulação de formato, ordenamento , seleção, I/O, transformadas de Fourier, álgebra linear básica, estatística básica, simulações e muito mais)."
   ]
  },
  {
   "cell_type": "markdown",
   "id": "4ee0f930-3ef6-4d18-9fb3-fcf6117028c8",
   "metadata": {},
   "source": [
    "Caracteristicas de um array:\n",
    "\n",
    "* Possui tamanho fixo estabelecido na criação. Qualquer alteração irá gerar um novo array.\n",
    "* Os elementos do array são do mesmo tipo.\n",
    "* Facilita a realização de operações matemáticas em grande número de registros.\n",
    "* Várias aplicações em python utilizam arrays numpy.\n",
    "\n",
    "### O que torna o numpy tão rápido?\n",
    "* **_Vetorização_**: processo de aplicar uma operação em um array inteiro de uma só vez, em vez de elemento por elemento. O NumPy executa essas operações em um nível de código C compilado, o que é ordens de magnitude mais rápido do que usar um laço for em Python. Exemplo:"
   ]
  },
  {
   "cell_type": "code",
   "execution_count": 2,
   "id": "bd8781b9-9e10-4646-a059-fb883142be49",
   "metadata": {},
   "outputs": [
    {
     "name": "stdout",
     "output_type": "stream",
     "text": [
      "[ 4 10 18]\n"
     ]
    }
   ],
   "source": [
    "import numpy as np\n",
    "\n",
    "a = np.array([1,2,3])\n",
    "b = np.array([4,5,6])\n",
    "print(a*b)"
   ]
  },
  {
   "cell_type": "markdown",
   "id": "504e67d8-ab5e-40c9-9a49-31d5a2c23bd7",
   "metadata": {},
   "source": [
    "Este código é mais simples e rápido que o seguinte:"
   ]
  },
  {
   "cell_type": "code",
   "execution_count": 7,
   "id": "b149e43e-f3f8-4ea2-b874-81507f9ec856",
   "metadata": {},
   "outputs": [
    {
     "name": "stdout",
     "output_type": "stream",
     "text": [
      "[ 4. 10. 18.]\n"
     ]
    }
   ],
   "source": [
    "c = np.empty(3)\n",
    "for i in range(3):\n",
    "    c[i] = a[i]*b[i]\n",
    "\n",
    "print(c)"
   ]
  },
  {
   "cell_type": "markdown",
   "id": "22e14f5d-d31a-4e55-a16b-60bbbc2537cd",
   "metadata": {},
   "source": [
    "* **_Broadcasting_**: é o conjunto de regras que o NumPy utiliza para permitir operações entre arrays de diferentes formatos e tamanhos. O broadcasting \"estica\" virtualmente o array menor para que seu formato corresponda ao do array maior, permitindo que a operação vetorizada ocorra.\n",
    "\n",
    "Isso evita a necessidade de criar cópias desnecessárias dos dados apenas para que os tamanhos correspondam."
   ]
  },
  {
   "cell_type": "code",
   "execution_count": 10,
   "id": "c9329c36-b1c2-4d7f-8e9c-8da275f71388",
   "metadata": {},
   "outputs": [
    {
     "name": "stdout",
     "output_type": "stream",
     "text": [
      "[2 4 6]\n"
     ]
    }
   ],
   "source": [
    "a = np.array([1,2,3])\n",
    "b = 2\n",
    "print(a*b)"
   ]
  },
  {
   "cell_type": "markdown",
   "id": "a95a7975-24d4-4515-bec5-6c8e21986c3b",
   "metadata": {},
   "source": [
    "![Broadcasting](https://numpy.org/doc/stable/_images/broadcasting_1.png)"
   ]
  },
  {
   "cell_type": "code",
   "execution_count": null,
   "id": "8e319175-9546-466d-bdb1-d899044a9cde",
   "metadata": {},
   "outputs": [],
   "source": []
  }
 ],
 "metadata": {
  "kernelspec": {
   "display_name": "Análise de Risco",
   "language": "python",
   "name": "risco"
  },
  "language_info": {
   "codemirror_mode": {
    "name": "ipython",
    "version": 3
   },
   "file_extension": ".py",
   "mimetype": "text/x-python",
   "name": "python",
   "nbconvert_exporter": "python",
   "pygments_lexer": "ipython3",
   "version": "3.12.3"
  }
 },
 "nbformat": 4,
 "nbformat_minor": 5
}
